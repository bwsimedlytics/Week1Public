{
  "nbformat": 4,
  "nbformat_minor": 0,
  "metadata": {
    "colab": {
      "name": "Challenge Problem Week 1-Student.ipynb",
      "version": "0.3.2",
      "provenance": []
    },
    "language_info": {
      "codemirror_mode": {
        "name": "ipython",
        "version": 3
      },
      "file_extension": ".py",
      "mimetype": "text/x-python",
      "name": "python",
      "nbconvert_exporter": "python",
      "pygments_lexer": "ipython3",
      "version": "3.7.3"
    },
    "kernelspec": {
      "display_name": "Python 3",
      "language": "python",
      "name": "python3"
    }
  },
  "cells": [
    {
      "cell_type": "markdown",
      "metadata": {
        "id": "HJlaA4-1Q6q1",
        "colab_type": "text"
      },
      "source": [
        "# Challenge Problem Week 1"
      ]
    },
    {
      "cell_type": "markdown",
      "metadata": {
        "id": "TjQPxXEuQ6q5",
        "colab_type": "text"
      },
      "source": [
        "Hepatitis B (HEP B) is a liver infection caused by the hepatitis B virus (HBV). The infection causes inflammation of the liver and if not properly treated, the virus can lead to liver disease such as cirrhosis or liver cancer. \n",
        "HEP B is the most primary causes of liver cancer, the one of the leading cause of cancer deaths in the world, therfore making it a major global health problem. HEP B is up to 100 times more infectious than the HIV/AIDS virus. Two billion people (1 in 3) have been infected and more than 292 million people are living with a chronic hepatitis B infection. Although HEP B is treatable and preventable about 884,000 people die each year.\n",
        "\n",
        "The virus is transmitted through the blood and infected bodily fluids. It can be passed to others through direct contact with blood, unprotected sex, use of illegal drugs, unsterilized or contaminated needles, and from an infected woman to her newborn during pregnancy or childbirth. Most people do not show symptoms and the only way to know you are infected is by getting tested.\n",
        "\n",
        "![hepb](https://images.onhealth.com/images/slideshow/hepatitis-s1-liver-hepatitis-virus.jpg)\n",
        "\n",
        "**Goal**: Use the NHANES data set to predict whether a patient has HEP B or not. We want to determine which attributes are the most meaningful to the predictive models. We want to create a balanced model that can predict with a high sensitivity and high specificity while using the **least amount of features**. Essentially is there a way to identify the population of those infected without testing them? \n",
        "\n",
        "Source: https://www.hepb.org/what-is-hepatitis-b/what-is-hepb/ "
      ]
    },
    {
      "cell_type": "markdown",
      "metadata": {
        "id": "IMkuiSM1Q6q7",
        "colab_type": "text"
      },
      "source": [
        "# National Health and Nutrition Examination Survey NHANES \n",
        "To investigate our research problem we will be using the NHANES database. NHANES is a program of studies designed to assess the health and nutritional status of adults and children in the United States. The survey is unique in that it combines interviews and physical examinations. The survey examines a nationally representative sample of about 5,000 persons each year. These persons are located in counties across the country, 15 of which are visited each year. The NHANES interview includes demographic, socioeconomic, dietary, and health-related questions. The examination component consists of medical, dental, and physiological measurements, as well as laboratory tests administered by highly trained medical personnel.\n",
        "\n",
        "Source: Centers for Disease Control and Prevention (CDC). National Center for Health Statistics (NCHS). National Health and Nutrition Examination Survey Data. Hyattsville, MD: U.S. Department of Health and Human Services, Centers for Disease Control and Prevention, [2019][https://www.cdc.gov/nchs/nhanes/about_nhanes.htm#data]."
      ]
    },
    {
      "cell_type": "markdown",
      "metadata": {
        "id": "7mJEYCvNQ6q9",
        "colab_type": "text"
      },
      "source": [
        "Below are some general steps to begin analyzing this problem. Apply the new material you learned in class and have fun! (:\n",
        "\n",
        "1. Import the data  \n",
        "2. Decide what variables are most relevant  \n",
        "3. Summary statistics of the data  \n",
        "4. Data Cleaning (Important!) Note this may a tedious process  \n",
        "a. Missing data  \n",
        "b. Transform/Normalize data  \n",
        "4. Data Visualization  \n",
        "5. Data analysis  \n",
        "a. Create dummy variables  \n",
        "b. Create training and test sets  \n",
        "c. Statistical methodology  \n",
        "6. Scoring metrics  \n",
        "confusion matrix, roc curve  \n"
      ]
    },
    {
      "cell_type": "code",
      "metadata": {
        "id": "t_VDuXGSQ6q-",
        "colab_type": "code",
        "colab": {}
      },
      "source": [
        "#import needed libraries\n",
        "import pandas as pd\n",
        "import numpy as np\n",
        "import matplotlib as plt\n",
        "import math\n",
        "import seaborn as sns\n",
        "import os\n",
        "\n",
        "os.chdir(\"./Week1Public\")"
      ],
      "execution_count": 0,
      "outputs": []
    },
    {
      "cell_type": "markdown",
      "metadata": {
        "id": "giyB_yIeQ6rC",
        "colab_type": "text"
      },
      "source": [
        "## Import data\n",
        "Read in the data set and look at the first ten lines"
      ]
    },
    {
      "cell_type": "code",
      "metadata": {
        "id": "txtC4RJAQ6rE",
        "colab_type": "code",
        "colab": {}
      },
      "source": [
        "#import data\n",
        "dataset = pd.read_csv('BWSI_Dataset1.csv')\n",
        "# Write your code here"
      ],
      "execution_count": 0,
      "outputs": []
    },
    {
      "cell_type": "code",
      "metadata": {
        "id": "n7ok46j0RRog",
        "colab_type": "code",
        "colab": {
          "base_uri": "https://localhost:8080/",
          "height": 193
        },
        "outputId": "f6042c8c-050e-4a8b-e8f7-0a17fbe15083"
      },
      "source": [
        "data.head(4)"
      ],
      "execution_count": 4,
      "outputs": [
        {
          "output_type": "execute_result",
          "data": {
            "text/html": [
              "<div>\n",
              "<style scoped>\n",
              "    .dataframe tbody tr th:only-of-type {\n",
              "        vertical-align: middle;\n",
              "    }\n",
              "\n",
              "    .dataframe tbody tr th {\n",
              "        vertical-align: top;\n",
              "    }\n",
              "\n",
              "    .dataframe thead th {\n",
              "        text-align: right;\n",
              "    }\n",
              "</style>\n",
              "<table border=\"1\" class=\"dataframe\">\n",
              "  <thead>\n",
              "    <tr style=\"text-align: right;\">\n",
              "      <th></th>\n",
              "      <th>SubjectID</th>\n",
              "      <th>Year</th>\n",
              "      <th>Sex</th>\n",
              "      <th>Age</th>\n",
              "      <th>Ethnicity</th>\n",
              "      <th>ParentEducation</th>\n",
              "      <th>MaritalStatus</th>\n",
              "      <th>HouseIncome</th>\n",
              "      <th>Protein</th>\n",
              "      <th>Carb</th>\n",
              "      <th>TotalFat</th>\n",
              "      <th>Chol</th>\n",
              "      <th>VitA</th>\n",
              "      <th>VitC</th>\n",
              "      <th>Weight</th>\n",
              "      <th>Height</th>\n",
              "      <th>BMI</th>\n",
              "      <th>BloodPres</th>\n",
              "      <th>Diabetes</th>\n",
              "      <th>HealthIns</th>\n",
              "      <th>HoursTV</th>\n",
              "    </tr>\n",
              "  </thead>\n",
              "  <tbody>\n",
              "    <tr>\n",
              "      <th>0</th>\n",
              "      <td>1</td>\n",
              "      <td>6</td>\n",
              "      <td>1</td>\n",
              "      <td>49</td>\n",
              "      <td>3</td>\n",
              "      <td>5</td>\n",
              "      <td>1</td>\n",
              "      <td>11</td>\n",
              "      <td>97.13</td>\n",
              "      <td>253.98</td>\n",
              "      <td>114.52</td>\n",
              "      <td>180.57</td>\n",
              "      <td>10292.63</td>\n",
              "      <td>112.19</td>\n",
              "      <td>92.5</td>\n",
              "      <td>178.3</td>\n",
              "      <td>29.10</td>\n",
              "      <td>694</td>\n",
              "      <td>2</td>\n",
              "      <td>1</td>\n",
              "      <td>2</td>\n",
              "    </tr>\n",
              "    <tr>\n",
              "      <th>1</th>\n",
              "      <td>2</td>\n",
              "      <td>2</td>\n",
              "      <td>1</td>\n",
              "      <td>37</td>\n",
              "      <td>3</td>\n",
              "      <td>4</td>\n",
              "      <td>5</td>\n",
              "      <td>11</td>\n",
              "      <td>130.02</td>\n",
              "      <td>309.57</td>\n",
              "      <td>178.85</td>\n",
              "      <td>1242.06</td>\n",
              "      <td>4181.03</td>\n",
              "      <td>70.96</td>\n",
              "      <td>99.2</td>\n",
              "      <td>180.0</td>\n",
              "      <td>30.62</td>\n",
              "      <td>1169</td>\n",
              "      <td>2</td>\n",
              "      <td>1</td>\n",
              "      <td>1</td>\n",
              "    </tr>\n",
              "    <tr>\n",
              "      <th>2</th>\n",
              "      <td>3</td>\n",
              "      <td>1</td>\n",
              "      <td>1</td>\n",
              "      <td>70</td>\n",
              "      <td>1</td>\n",
              "      <td>1</td>\n",
              "      <td>1</td>\n",
              "      <td>3</td>\n",
              "      <td>67.01</td>\n",
              "      <td>268.23</td>\n",
              "      <td>14.99</td>\n",
              "      <td>37.41</td>\n",
              "      <td>36792.50</td>\n",
              "      <td>78.51</td>\n",
              "      <td>63.6</td>\n",
              "      <td>157.7</td>\n",
              "      <td>25.57</td>\n",
              "      <td>725</td>\n",
              "      <td>1</td>\n",
              "      <td>1</td>\n",
              "      <td>5</td>\n",
              "    </tr>\n",
              "    <tr>\n",
              "      <th>3</th>\n",
              "      <td>4</td>\n",
              "      <td>6</td>\n",
              "      <td>2</td>\n",
              "      <td>38</td>\n",
              "      <td>3</td>\n",
              "      <td>5</td>\n",
              "      <td>3</td>\n",
              "      <td>8</td>\n",
              "      <td>82.66</td>\n",
              "      <td>264.69</td>\n",
              "      <td>127.03</td>\n",
              "      <td>596.30</td>\n",
              "      <td>3075.79</td>\n",
              "      <td>36.11</td>\n",
              "      <td>81.6</td>\n",
              "      <td>174.9</td>\n",
              "      <td>26.68</td>\n",
              "      <td>697</td>\n",
              "      <td>2</td>\n",
              "      <td>1</td>\n",
              "      <td>3</td>\n",
              "    </tr>\n",
              "  </tbody>\n",
              "</table>\n",
              "</div>"
            ],
            "text/plain": [
              "   SubjectID  Year  Sex  Age  ...  BloodPres  Diabetes  HealthIns  HoursTV\n",
              "0          1     6    1   49  ...        694         2          1        2\n",
              "1          2     2    1   37  ...       1169         2          1        1\n",
              "2          3     1    1   70  ...        725         1          1        5\n",
              "3          4     6    2   38  ...        697         2          1        3\n",
              "\n",
              "[4 rows x 21 columns]"
            ]
          },
          "metadata": {
            "tags": []
          },
          "execution_count": 4
        }
      ]
    },
    {
      "cell_type": "code",
      "metadata": {
        "id": "AV-kFZ9eQ6rH",
        "colab_type": "code",
        "colab": {
          "base_uri": "https://localhost:8080/",
          "height": 180
        },
        "outputId": "e7455936-d2f2-487f-83b5-4ba9da47a3af"
      },
      "source": [
        "#dropping unnecessary variables (don't worry about this)\n",
        "dataset = dataset[dataset.columns.drop(list(dataset.filter(regex='WT')))]\n",
        "dataset = dataset[dataset.columns.drop(list(dataset.filter(regex='SDM')))]"
      ],
      "execution_count": 5,
      "outputs": [
        {
          "output_type": "error",
          "ename": "NameError",
          "evalue": "ignored",
          "traceback": [
            "\u001b[0;31m---------------------------------------------------------------------------\u001b[0m",
            "\u001b[0;31mNameError\u001b[0m                                 Traceback (most recent call last)",
            "\u001b[0;32m<ipython-input-5-0692343388a8>\u001b[0m in \u001b[0;36m<module>\u001b[0;34m()\u001b[0m\n\u001b[0;32m----> 1\u001b[0;31m \u001b[0mdataset\u001b[0m \u001b[0;34m=\u001b[0m \u001b[0mdataset\u001b[0m\u001b[0;34m[\u001b[0m\u001b[0mdataset\u001b[0m\u001b[0;34m.\u001b[0m\u001b[0mcolumns\u001b[0m\u001b[0;34m.\u001b[0m\u001b[0mdrop\u001b[0m\u001b[0;34m(\u001b[0m\u001b[0mlist\u001b[0m\u001b[0;34m(\u001b[0m\u001b[0mdataset\u001b[0m\u001b[0;34m.\u001b[0m\u001b[0mfilter\u001b[0m\u001b[0;34m(\u001b[0m\u001b[0mregex\u001b[0m\u001b[0;34m=\u001b[0m\u001b[0;34m'WT'\u001b[0m\u001b[0;34m)\u001b[0m\u001b[0;34m)\u001b[0m\u001b[0;34m)\u001b[0m\u001b[0;34m]\u001b[0m\u001b[0;34m\u001b[0m\u001b[0;34m\u001b[0m\u001b[0m\n\u001b[0m\u001b[1;32m      2\u001b[0m \u001b[0mdataset\u001b[0m \u001b[0;34m=\u001b[0m \u001b[0mdataset\u001b[0m\u001b[0;34m[\u001b[0m\u001b[0mdataset\u001b[0m\u001b[0;34m.\u001b[0m\u001b[0mcolumns\u001b[0m\u001b[0;34m.\u001b[0m\u001b[0mdrop\u001b[0m\u001b[0;34m(\u001b[0m\u001b[0mlist\u001b[0m\u001b[0;34m(\u001b[0m\u001b[0mdataset\u001b[0m\u001b[0;34m.\u001b[0m\u001b[0mfilter\u001b[0m\u001b[0;34m(\u001b[0m\u001b[0mregex\u001b[0m\u001b[0;34m=\u001b[0m\u001b[0;34m'SDM'\u001b[0m\u001b[0;34m)\u001b[0m\u001b[0;34m)\u001b[0m\u001b[0;34m)\u001b[0m\u001b[0;34m]\u001b[0m\u001b[0;34m\u001b[0m\u001b[0;34m\u001b[0m\u001b[0m\n",
            "\u001b[0;31mNameError\u001b[0m: name 'dataset' is not defined"
          ]
        }
      ]
    },
    {
      "cell_type": "markdown",
      "metadata": {
        "id": "pMQlv34tQ6rM",
        "colab_type": "text"
      },
      "source": [
        "Awesome, looks like the data loaded in properly. Let's continue by looking at variables that may be predictive of hepatitis B. For beginners, I would suggest conducting a literature review on previous research of hepatitis B."
      ]
    },
    {
      "cell_type": "markdown",
      "metadata": {
        "id": "9R_fReGRQ6rN",
        "colab_type": "text"
      },
      "source": [
        "## Select Features of Interest\n",
        "Once you have selected some variables in the NHANES data set only looking at what you are interested in. It is in your best interest to rename the variables."
      ]
    },
    {
      "cell_type": "code",
      "metadata": {
        "id": "PixvFpLGQ6rO",
        "colab_type": "code",
        "colab": {}
      },
      "source": [
        "# Write your code here\n",
        "\n",
        "# create a subset of the data you want to analyze\n",
        "\n",
        "# rename the variables"
      ],
      "execution_count": 0,
      "outputs": []
    },
    {
      "cell_type": "markdown",
      "metadata": {
        "id": "EgBfUbAaQ6rR",
        "colab_type": "text"
      },
      "source": [
        "Remember the goal is to create a balanced model that can predict with a high sensitivity and high specificity while using the **least amount of features**. Next, we will look at some summary statistics of the variables you chose."
      ]
    },
    {
      "cell_type": "markdown",
      "metadata": {
        "id": "zekCYBu_Q6rS",
        "colab_type": "text"
      },
      "source": [
        "## View summary statistics\n",
        "Some useful functions in pandas are describe() and info()"
      ]
    },
    {
      "cell_type": "code",
      "metadata": {
        "id": "1o8Aaj3QQ6rT",
        "colab_type": "code",
        "colab": {}
      },
      "source": [
        "# Write your code here"
      ],
      "execution_count": 0,
      "outputs": []
    },
    {
      "cell_type": "markdown",
      "metadata": {
        "id": "8q0nrtyzQ6rW",
        "colab_type": "text"
      },
      "source": [
        "Note the data types are float64, int64 or objects--if there are columns that are obviously numeric like Age but show as objects (or vice versa), we need to change."
      ]
    },
    {
      "cell_type": "markdown",
      "metadata": {
        "id": "1OWJ3D9DQ6rY",
        "colab_type": "text"
      },
      "source": [
        "## Data Cleaning\n",
        "\n",
        "Ensure that numeric and categorical variables are coded correctly (turn numeric from strings to numbers)."
      ]
    },
    {
      "cell_type": "code",
      "metadata": {
        "id": "8F8REAjTQ6rZ",
        "colab_type": "code",
        "colab": {}
      },
      "source": [
        "# Write your code here"
      ],
      "execution_count": 0,
      "outputs": []
    },
    {
      "cell_type": "markdown",
      "metadata": {
        "id": "RfOJQNAyQ6rg",
        "colab_type": "text"
      },
      "source": [
        "Notice the counts for the columns are different because of missing values therefore you will have to figure out how to remediate that issue..some suggestions are found in https://scikit-learn.org/stable/modules/impute.html#impute"
      ]
    },
    {
      "cell_type": "code",
      "metadata": {
        "id": "p2BUhx_tQ6rh",
        "colab_type": "code",
        "colab": {}
      },
      "source": [
        "# Write your code here\n",
        "\n",
        "# remove, impute, some remedial procedure for NAs \n"
      ],
      "execution_count": 0,
      "outputs": []
    },
    {
      "cell_type": "markdown",
      "metadata": {
        "id": "rKUYamrbQ6rk",
        "colab_type": "text"
      },
      "source": [
        "Lastly, we will convert HEP B into indicator variables"
      ]
    },
    {
      "cell_type": "code",
      "metadata": {
        "id": "MAH-17IgQ6rn",
        "colab_type": "code",
        "colab": {}
      },
      "source": [
        "# write your code here"
      ],
      "execution_count": 0,
      "outputs": []
    },
    {
      "cell_type": "markdown",
      "metadata": {
        "id": "3JFBXM6FQ6rq",
        "colab_type": "text"
      },
      "source": [
        "## Data Analysis and Visualization\n",
        "\n",
        "Take a look at your data. I would suggest doing univariate, bivariate, and multi-variate analysis of most if not all the features you chose."
      ]
    },
    {
      "cell_type": "code",
      "metadata": {
        "id": "qkPqOHMHQ6rw",
        "colab_type": "code",
        "colab": {}
      },
      "source": [
        "# Write your code here"
      ],
      "execution_count": 0,
      "outputs": []
    },
    {
      "cell_type": "markdown",
      "metadata": {
        "id": "fLeYcXq9Q6rz",
        "colab_type": "text"
      },
      "source": [
        "## Preprocessing data"
      ]
    },
    {
      "cell_type": "markdown",
      "metadata": {
        "id": "7L6bz_PHQ6r2",
        "colab_type": "text"
      },
      "source": [
        "Before we begin to implement a model, we need to prepare the variables that will be used. At this step we convert categorical variables into dummy\\indicator variables (https://chrisalbon.com/python/data_wrangling/pandas_convert_categorical_to_dummies/). Additionally, you'll have to normalize and transform variables if necessary."
      ]
    },
    {
      "cell_type": "code",
      "metadata": {
        "id": "5xbfe62ZQ6r3",
        "colab_type": "code",
        "colab": {}
      },
      "source": [
        "# Write your code here"
      ],
      "execution_count": 0,
      "outputs": []
    },
    {
      "cell_type": "markdown",
      "metadata": {
        "id": "tip3FqeNQ6r6",
        "colab_type": "text"
      },
      "source": [
        "## Model training and selection\n",
        "Now, let's split our data into training and testing in an 80-20 split, stratified by HEPB distribution (this tries to keep the HEPB distribution approximately equal for the training and test set). For consistency, let's use a random seed 0."
      ]
    },
    {
      "cell_type": "code",
      "metadata": {
        "id": "FW0bZW4hQ6r7",
        "colab_type": "code",
        "colab": {}
      },
      "source": [
        "# Write your code here\n",
        "\n",
        "from sklearn.model_selection import train_test_split\n"
      ],
      "execution_count": 0,
      "outputs": []
    },
    {
      "cell_type": "markdown",
      "metadata": {
        "id": "WxyiThvSQ6sB",
        "colab_type": "text"
      },
      "source": [
        "Now we can use our training data to create the model and  make predicitons with your test data."
      ]
    },
    {
      "cell_type": "code",
      "metadata": {
        "id": "7uOe_isfQ6sC",
        "colab_type": "code",
        "colab": {}
      },
      "source": [
        "#Write your code here\n",
        "\n",
        "from sklearn.linear_model import LogisticRegression\n",
        "X_train, X_test, y_train, y_test = train_test_split(X, y, random_state=0)"
      ],
      "execution_count": 0,
      "outputs": []
    },
    {
      "cell_type": "markdown",
      "metadata": {
        "id": "v-UpFAs_Q6sF",
        "colab_type": "text"
      },
      "source": [
        "# Scoring Metrics\n",
        "## Confusion Matrix Metrics\n",
        "\n",
        "There are several useful metrics that are derived from the confusion matrix:\n",
        "\n",
        "![alt text](https://i.imgur.com/uipmEwt.png)\n",
        "\n",
        "* sensitivity, **recall**, hit rate, or true positive rate (TPR) : $ \\mathrm {TPR} ={\\frac {\\mathrm {TP} }{P}}={\\frac {\\mathrm {TP} }{\\mathrm {TP} +\\mathrm {FN} }}$\n",
        " \n",
        "* **precision** or positive predictive value (PPV) : $ \\mathrm {PPV} ={\\frac {\\mathrm {TP} }{\\mathrm {TP} +\\mathrm {FP} }}$\n",
        "\n",
        "* specificity or true negative rate (TNR) : $\\mathrm {TNR} ={\\frac {\\mathrm {TN} }{N}}={\\frac {\\mathrm {TN} }{\\mathrm {TN} +\\mathrm {FP} }}$\n",
        "\n",
        "* miss rate or false negative rate (FNR) : $ \\mathrm {FNR} ={\\frac {\\mathrm {FN} }{P}}={\\frac {\\mathrm {FN} }{\\mathrm {FN} +\\mathrm {TP} }}=1-\\mathrm {TPR}$\n",
        "\n",
        "* fall-out or false positive rate (FPR) : $\\mathrm {FPR} ={\\frac {\\mathrm {FP} }{N}}={\\frac {\\mathrm {FP} }{\\mathrm {FP} +\\mathrm {TN} }}=1-\\mathrm {TNR} $\n",
        "\n",
        "* accuracy (ACC) : $\\mathrm {ACC} ={\\frac {\\mathrm {TP} +\\mathrm {TN} }{P+N}}={\\frac {\\mathrm {TP} +\\mathrm {TN} }{\\mathrm {TP} +\\mathrm {TN} +\\mathrm {FP} +\\mathrm {FN} }}$\n",
        "\n",
        "Now use code below to calculate the confusion matrix."
      ]
    },
    {
      "cell_type": "code",
      "metadata": {
        "id": "SeDPiuXEQ6sG",
        "colab_type": "code",
        "colab": {}
      },
      "source": [
        "# write your code here\n",
        "\n",
        "from sklearn import metrics\n",
        "from sklearn.metrics import confusion_matrix"
      ],
      "execution_count": 0,
      "outputs": []
    },
    {
      "cell_type": "markdown",
      "metadata": {
        "id": "-51H5ga_Q6sJ",
        "colab_type": "text"
      },
      "source": [
        "The model is classifying everything as class 1... Pretty terrible. :( Well maybe there's a threshold where this doesn't happen. Let's look at the AUC ROC.\n",
        "\n",
        "## AUC ROC\n",
        "\n",
        "A receiver operating characteristic (ROC) is a probability curve that plots the true positive rate (y) against the false positive rate (x) at many decision threshold settings. The area under the curve (AUC) represents a measure of separability or how much the model is capable of distinguishing between classes. An AUC closer to 1 is desirable as it shows the model is perfectly distinguishing between patients with disease and no disease. A poor model has an AUC $\\leq$ 0.50."
      ]
    },
    {
      "cell_type": "code",
      "metadata": {
        "id": "GgdQ64IpQ6sL",
        "colab_type": "code",
        "colab": {}
      },
      "source": [
        "#extract fpr and tpr to plot ROC curve and calculate AUC (Note: fpr-false positive rate and tpr -true positive rate)\n",
        "fpr, tpr, threshold = metrics.roc_curve() "
      ],
      "execution_count": 0,
      "outputs": []
    },
    {
      "cell_type": "markdown",
      "metadata": {
        "id": "EthgNLKrQ6sT",
        "colab_type": "text"
      },
      "source": [
        "This model only looks at three possible features and leaves lots of room for improvement!  Try using more features, different models, and see if you can do anything about the data we threw out earlier."
      ]
    },
    {
      "cell_type": "markdown",
      "metadata": {
        "id": "hsztJpykQ6sU",
        "colab_type": "text"
      },
      "source": [
        "## Economic Cost\n",
        "Similar to the confusion matrix, we want you to keep in mind the other aspects of healthcare analytics--in this case, economic feasibility. In essence, we want you to minimize the amount of time and money spent on data collection by **reducing the number of features** collected. Each record certainly required a lot of time and money from several individuals and businesses to reliably create, and we hope you gain a better understanding of conducting a useful cost-benefit analysis with this scoring method.  This won't be evaluated quantitatively, but please consider discussing it for your presentation."
      ]
    },
    {
      "cell_type": "markdown",
      "metadata": {
        "id": "fALE9f1cQ6sW",
        "colab_type": "text"
      },
      "source": [
        "For your presentation on Friday, don't foget to mention why you selected the features you used, the model implemented, the scoring metrics mentioned above, and the limitations of your analysis."
      ]
    },
    {
      "cell_type": "markdown",
      "metadata": {
        "id": "sjYS6ejgQ6sX",
        "colab_type": "text"
      },
      "source": [
        "# Next steps\n",
        "For those that finish early, try different classification models such as decision trees, KNN, SVM etc. You can try tackling the multiclass classifier (predicting the different cases instead of simply negative or positive)!\n",
        "\n",
        "Given the rich data set provided feel free to study a research question of your interest. Have fun! (:"
      ]
    }
  ]
}