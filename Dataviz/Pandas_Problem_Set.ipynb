{
  "nbformat": 4,
  "nbformat_minor": 0,
  "metadata": {
    "colab": {
      "name": "Pandas Problem Set.ipynb",
      "version": "0.3.2",
      "provenance": [],
      "collapsed_sections": []
    },
    "language_info": {
      "codemirror_mode": {
        "name": "ipython",
        "version": 3
      },
      "file_extension": ".py",
      "mimetype": "text/x-python",
      "name": "python",
      "nbconvert_exporter": "python",
      "pygments_lexer": "ipython3",
      "version": "3.7.3"
    },
    "kernelspec": {
      "display_name": "Python 3",
      "language": "python",
      "name": "python3"
    }
  },
  "cells": [
    {
      "cell_type": "markdown",
      "metadata": {
        "colab_type": "text",
        "id": "bSU6eKZTdMXZ"
      },
      "source": [
        "# Pandas Problem Set"
      ]
    },
    {
      "cell_type": "code",
      "metadata": {
        "colab_type": "code",
        "id": "c5ewTg7vdQFm",
        "colab": {}
      },
      "source": [
        "import pandas as pd\n",
        "from google.colab import files\n",
        "import numpy as np\n",
        "import matplotlib.pyplot as plt\n",
        "\n"
      ],
      "execution_count": 0,
      "outputs": []
    },
    {
      "cell_type": "markdown",
      "metadata": {
        "colab_type": "text",
        "id": "MytzEzg-fyb7"
      },
      "source": [
        "### Dataset for tutorial and problem set:\n",
        "\n",
        "    Pima Indian Heritage Diabetes\n",
        "\n",
        "    Each person in the dataset is a female who is at least 21 years old\n",
        "    \n",
        "  #### Below are the variables for each person in the dataset\n",
        "      'preg': number of pregnancies  \n",
        "      'plas': plasma glucose concentration \n",
        "      'pres': blood pressure \n",
        "      'skin': skin thickness\n",
        "      'test': Insulin\n",
        "      'mass': BMI\n",
        "      'pedi': diabetes pedigree function\n",
        "      'age': age\n",
        "      'class': '0' means does not have diabetes and '1' means has diabetes"
      ]
    },
    {
      "cell_type": "code",
      "metadata": {
        "colab_type": "code",
        "id": "F4btIg8vdSyb",
        "colab": {}
      },
      "source": [
        "url = \"https://raw.githubusercontent.com/jbrownlee/Datasets/master/pima-indians-diabetes.data.csv\"\n",
        "names = ['preg', 'plas', 'pres', 'skin', 'test', 'mass', 'pedi', 'age', 'class']"
      ],
      "execution_count": 0,
      "outputs": []
    },
    {
      "cell_type": "markdown",
      "metadata": {
        "colab_type": "text",
        "id": "QOLgFaSKeShR"
      },
      "source": [
        "Read in csv above to a pandas dataframe"
      ]
    },
    {
      "cell_type": "code",
      "metadata": {
        "colab_type": "code",
        "id": "Okcb8dnXeX2C",
        "colab": {}
      },
      "source": [
        "# your code here\n",
        "data = pd.read_csv(url, names=names)"
      ],
      "execution_count": 0,
      "outputs": []
    },
    {
      "cell_type": "markdown",
      "metadata": {
        "colab_type": "text",
        "id": "d4DyOsuoewE2"
      },
      "source": [
        "Print out the age and class of the 100th patient"
      ]
    },
    {
      "cell_type": "code",
      "metadata": {
        "colab_type": "code",
        "id": "xZqBsg39eY8_",
        "colab": {
          "base_uri": "https://localhost:8080/",
          "height": 187
        },
        "outputId": "93072be6-59f2-49ae-88b4-acc2de36fd6c"
      },
      "source": [
        "data.iloc[100]\n",
        "# your code here"
      ],
      "execution_count": 5,
      "outputs": [
        {
          "output_type": "execute_result",
          "data": {
            "text/plain": [
              "preg       1.000\n",
              "plas     163.000\n",
              "pres      72.000\n",
              "skin       0.000\n",
              "test       0.000\n",
              "mass      39.000\n",
              "pedi       1.222\n",
              "age       33.000\n",
              "class      1.000\n",
              "Name: 100, dtype: float64"
            ]
          },
          "metadata": {
            "tags": []
          },
          "execution_count": 5
        }
      ]
    },
    {
      "cell_type": "markdown",
      "metadata": {
        "colab_type": "text",
        "id": "j8L2EM-5iOWc"
      },
      "source": [
        "Write code to figure out how many people are classified as not having diabetes, class is 1"
      ]
    },
    {
      "cell_type": "code",
      "metadata": {
        "colab_type": "code",
        "id": "vohzS51WiWvD",
        "colab": {
          "base_uri": "https://localhost:8080/",
          "height": 34
        },
        "outputId": "7b4f9a17-d438-41bd-a5a2-054e7634a6b2"
      },
      "source": [
        "# your code here\n",
        "data_nodiabetes = data[data['class'] == 0]\n",
        "print(\"There are \" + str(len(data_nodiabetes)))"
      ],
      "execution_count": 6,
      "outputs": [
        {
          "output_type": "stream",
          "text": [
            "There are 500\n"
          ],
          "name": "stdout"
        }
      ]
    },
    {
      "cell_type": "markdown",
      "metadata": {
        "colab_type": "text",
        "id": "ieGRz4iiiX4E"
      },
      "source": [
        "Write code to figure out how many people are classified as having diabetes, class is 0"
      ]
    },
    {
      "cell_type": "code",
      "metadata": {
        "colab_type": "code",
        "id": "-jq2O-vriXRT",
        "colab": {
          "base_uri": "https://localhost:8080/",
          "height": 34
        },
        "outputId": "2028a08c-a7d9-4616-b32a-6d56fa177476"
      },
      "source": [
        "# your code here\n",
        "data_nodiabetes = data[data['class'] == 1]\n",
        "print(\"There are \" + str(len(data_nodiabetes)))"
      ],
      "execution_count": 7,
      "outputs": [
        {
          "output_type": "stream",
          "text": [
            "There are 268\n"
          ],
          "name": "stdout"
        }
      ]
    },
    {
      "cell_type": "markdown",
      "metadata": {
        "colab_type": "text",
        "id": "oeFT7T9OnuSd"
      },
      "source": [
        "What percent of people have diabetes in the study?"
      ]
    },
    {
      "cell_type": "code",
      "metadata": {
        "colab_type": "code",
        "id": "zGGHptFYnwq0",
        "colab": {
          "base_uri": "https://localhost:8080/",
          "height": 34
        },
        "outputId": "8021b909-ba6f-4283-a50d-22f1ffaf3a7f"
      },
      "source": [
        "# your code here\n",
        "(len(data)-len(data_nodiabetes))"
      ],
      "execution_count": 8,
      "outputs": [
        {
          "output_type": "execute_result",
          "data": {
            "text/plain": [
              "500"
            ]
          },
          "metadata": {
            "tags": []
          },
          "execution_count": 8
        }
      ]
    },
    {
      "cell_type": "markdown",
      "metadata": {
        "colab_type": "text",
        "id": "nbrjnRPafs0p"
      },
      "source": [
        "Print out the pressure and class (no other columns) for the first 5 people\n",
        "\n",
        "hint: this was not shown in our tutorial. Google how to select multiple columns with loc\n",
        "\n",
        "Being able to effectively google is a very important coding tool"
      ]
    },
    {
      "cell_type": "code",
      "metadata": {
        "colab_type": "code",
        "id": "GiNCJ19KfHJQ",
        "colab": {}
      },
      "source": [
        "# your code here"
      ],
      "execution_count": 0,
      "outputs": []
    },
    {
      "cell_type": "markdown",
      "metadata": {
        "colab_type": "text",
        "id": "O-CcsoqlhxUn"
      },
      "source": [
        "Run the cell below, it will print out the correlation among the columns"
      ]
    },
    {
      "cell_type": "code",
      "metadata": {
        "colab_type": "code",
        "id": "pXpVFt6MffQt",
        "outputId": "d0ca6f04-84fa-4619-9735-c3cd3581d8a2",
        "colab": {
          "base_uri": "https://localhost:8080/",
          "height": 328
        }
      },
      "source": [
        "data.corr()"
      ],
      "execution_count": 10,
      "outputs": [
        {
          "output_type": "execute_result",
          "data": {
            "text/html": [
              "<div>\n",
              "<style scoped>\n",
              "    .dataframe tbody tr th:only-of-type {\n",
              "        vertical-align: middle;\n",
              "    }\n",
              "\n",
              "    .dataframe tbody tr th {\n",
              "        vertical-align: top;\n",
              "    }\n",
              "\n",
              "    .dataframe thead th {\n",
              "        text-align: right;\n",
              "    }\n",
              "</style>\n",
              "<table border=\"1\" class=\"dataframe\">\n",
              "  <thead>\n",
              "    <tr style=\"text-align: right;\">\n",
              "      <th></th>\n",
              "      <th>preg</th>\n",
              "      <th>plas</th>\n",
              "      <th>pres</th>\n",
              "      <th>skin</th>\n",
              "      <th>test</th>\n",
              "      <th>mass</th>\n",
              "      <th>pedi</th>\n",
              "      <th>age</th>\n",
              "      <th>class</th>\n",
              "    </tr>\n",
              "  </thead>\n",
              "  <tbody>\n",
              "    <tr>\n",
              "      <th>preg</th>\n",
              "      <td>1.000000</td>\n",
              "      <td>0.129459</td>\n",
              "      <td>0.141282</td>\n",
              "      <td>-0.081672</td>\n",
              "      <td>-0.073535</td>\n",
              "      <td>0.017683</td>\n",
              "      <td>-0.033523</td>\n",
              "      <td>0.544341</td>\n",
              "      <td>0.221898</td>\n",
              "    </tr>\n",
              "    <tr>\n",
              "      <th>plas</th>\n",
              "      <td>0.129459</td>\n",
              "      <td>1.000000</td>\n",
              "      <td>0.152590</td>\n",
              "      <td>0.057328</td>\n",
              "      <td>0.331357</td>\n",
              "      <td>0.221071</td>\n",
              "      <td>0.137337</td>\n",
              "      <td>0.263514</td>\n",
              "      <td>0.466581</td>\n",
              "    </tr>\n",
              "    <tr>\n",
              "      <th>pres</th>\n",
              "      <td>0.141282</td>\n",
              "      <td>0.152590</td>\n",
              "      <td>1.000000</td>\n",
              "      <td>0.207371</td>\n",
              "      <td>0.088933</td>\n",
              "      <td>0.281805</td>\n",
              "      <td>0.041265</td>\n",
              "      <td>0.239528</td>\n",
              "      <td>0.065068</td>\n",
              "    </tr>\n",
              "    <tr>\n",
              "      <th>skin</th>\n",
              "      <td>-0.081672</td>\n",
              "      <td>0.057328</td>\n",
              "      <td>0.207371</td>\n",
              "      <td>1.000000</td>\n",
              "      <td>0.436783</td>\n",
              "      <td>0.392573</td>\n",
              "      <td>0.183928</td>\n",
              "      <td>-0.113970</td>\n",
              "      <td>0.074752</td>\n",
              "    </tr>\n",
              "    <tr>\n",
              "      <th>test</th>\n",
              "      <td>-0.073535</td>\n",
              "      <td>0.331357</td>\n",
              "      <td>0.088933</td>\n",
              "      <td>0.436783</td>\n",
              "      <td>1.000000</td>\n",
              "      <td>0.197859</td>\n",
              "      <td>0.185071</td>\n",
              "      <td>-0.042163</td>\n",
              "      <td>0.130548</td>\n",
              "    </tr>\n",
              "    <tr>\n",
              "      <th>mass</th>\n",
              "      <td>0.017683</td>\n",
              "      <td>0.221071</td>\n",
              "      <td>0.281805</td>\n",
              "      <td>0.392573</td>\n",
              "      <td>0.197859</td>\n",
              "      <td>1.000000</td>\n",
              "      <td>0.140647</td>\n",
              "      <td>0.036242</td>\n",
              "      <td>0.292695</td>\n",
              "    </tr>\n",
              "    <tr>\n",
              "      <th>pedi</th>\n",
              "      <td>-0.033523</td>\n",
              "      <td>0.137337</td>\n",
              "      <td>0.041265</td>\n",
              "      <td>0.183928</td>\n",
              "      <td>0.185071</td>\n",
              "      <td>0.140647</td>\n",
              "      <td>1.000000</td>\n",
              "      <td>0.033561</td>\n",
              "      <td>0.173844</td>\n",
              "    </tr>\n",
              "    <tr>\n",
              "      <th>age</th>\n",
              "      <td>0.544341</td>\n",
              "      <td>0.263514</td>\n",
              "      <td>0.239528</td>\n",
              "      <td>-0.113970</td>\n",
              "      <td>-0.042163</td>\n",
              "      <td>0.036242</td>\n",
              "      <td>0.033561</td>\n",
              "      <td>1.000000</td>\n",
              "      <td>0.238356</td>\n",
              "    </tr>\n",
              "    <tr>\n",
              "      <th>class</th>\n",
              "      <td>0.221898</td>\n",
              "      <td>0.466581</td>\n",
              "      <td>0.065068</td>\n",
              "      <td>0.074752</td>\n",
              "      <td>0.130548</td>\n",
              "      <td>0.292695</td>\n",
              "      <td>0.173844</td>\n",
              "      <td>0.238356</td>\n",
              "      <td>1.000000</td>\n",
              "    </tr>\n",
              "  </tbody>\n",
              "</table>\n",
              "</div>"
            ],
            "text/plain": [
              "           preg      plas      pres  ...      pedi       age     class\n",
              "preg   1.000000  0.129459  0.141282  ... -0.033523  0.544341  0.221898\n",
              "plas   0.129459  1.000000  0.152590  ...  0.137337  0.263514  0.466581\n",
              "pres   0.141282  0.152590  1.000000  ...  0.041265  0.239528  0.065068\n",
              "skin  -0.081672  0.057328  0.207371  ...  0.183928 -0.113970  0.074752\n",
              "test  -0.073535  0.331357  0.088933  ...  0.185071 -0.042163  0.130548\n",
              "mass   0.017683  0.221071  0.281805  ...  0.140647  0.036242  0.292695\n",
              "pedi  -0.033523  0.137337  0.041265  ...  1.000000  0.033561  0.173844\n",
              "age    0.544341  0.263514  0.239528  ...  0.033561  1.000000  0.238356\n",
              "class  0.221898  0.466581  0.065068  ...  0.173844  0.238356  1.000000\n",
              "\n",
              "[9 rows x 9 columns]"
            ]
          },
          "metadata": {
            "tags": []
          },
          "execution_count": 10
        }
      ]
    },
    {
      "cell_type": "markdown",
      "metadata": {
        "colab_type": "text",
        "id": "P_7xRF11h4Uf"
      },
      "source": [
        "What column has the highest correlation with class? Find the mean() value of that column"
      ]
    },
    {
      "cell_type": "code",
      "metadata": {
        "colab_type": "code",
        "id": "clb2Gh8Mn9d4",
        "colab": {}
      },
      "source": [
        "glucose_mean = data['plas'].mean()\n",
        "# your code here"
      ],
      "execution_count": 0,
      "outputs": []
    },
    {
      "cell_type": "markdown",
      "metadata": {
        "colab_type": "text",
        "id": "64yWhAARoWw-"
      },
      "source": [
        "Create a new dataframe with only people that are above the mean found above"
      ]
    },
    {
      "cell_type": "code",
      "metadata": {
        "colab_type": "code",
        "id": "HRLjs3agkdPY",
        "colab": {}
      },
      "source": [
        "# your code here\n",
        "data_plas_abovemean = data[data['plas'] > glucose_mean]"
      ],
      "execution_count": 0,
      "outputs": []
    },
    {
      "cell_type": "markdown",
      "metadata": {
        "colab_type": "text",
        "id": "VvUV0lrRmiB7"
      },
      "source": [
        "What percent of this new dataframe has diabetes?"
      ]
    },
    {
      "cell_type": "code",
      "metadata": {
        "colab_type": "code",
        "id": "tx3x0WsFl3ya",
        "colab": {
          "base_uri": "https://localhost:8080/",
          "height": 34
        },
        "outputId": "6693ed34-d617-45ac-a66e-4e282e700b3b"
      },
      "source": [
        "# your code here\n",
        "len(data_plas_abovemean[data_plas_abovemean['class'] == 1])/len(data_plas_abovemean) * 100"
      ],
      "execution_count": 13,
      "outputs": [
        {
          "output_type": "execute_result",
          "data": {
            "text/plain": [
              "55.873925501432666"
            ]
          },
          "metadata": {
            "tags": []
          },
          "execution_count": 13
        }
      ]
    },
    {
      "cell_type": "markdown",
      "metadata": {
        "colab_type": "text",
        "id": "RxGIQp0JrUnq"
      },
      "source": [
        "Create a new dataframe that only includes people who are above the average value for each column in the dataset (except 'class'). In other words, find the average value for each column, and then find which users have values above all of these average column values"
      ]
    },
    {
      "cell_type": "code",
      "metadata": {
        "colab_type": "code",
        "id": "Ylf4p6NNrfME",
        "colab": {
          "base_uri": "https://localhost:8080/",
          "height": 34
        },
        "outputId": "089a0944-0d8c-4531-9ea0-1e15c997f8c4"
      },
      "source": [
        "# write code here\n",
        "data_above_avg = data\n",
        "for label in names[:8]:\n",
        "  data_above_avg = data_above_avg[data_above_avg[label] > data[label].mean()]\n",
        "print(len(data_above_avg))"
      ],
      "execution_count": 14,
      "outputs": [
        {
          "output_type": "stream",
          "text": [
            "19\n"
          ],
          "name": "stdout"
        }
      ]
    },
    {
      "cell_type": "code",
      "metadata": {
        "colab_type": "code",
        "id": "kSl28jLLdAF9",
        "colab": {
          "base_uri": "https://localhost:8080/",
          "height": 187
        },
        "outputId": "44f35f08-cc6e-4b51-8622-8386b4926316"
      },
      "source": [
        "# write code here\n",
        "data.mean()"
      ],
      "execution_count": 15,
      "outputs": [
        {
          "output_type": "execute_result",
          "data": {
            "text/plain": [
              "preg       3.845052\n",
              "plas     120.894531\n",
              "pres      69.105469\n",
              "skin      20.536458\n",
              "test      79.799479\n",
              "mass      31.992578\n",
              "pedi       0.471876\n",
              "age       33.240885\n",
              "class      0.348958\n",
              "dtype: float64"
            ]
          },
          "metadata": {
            "tags": []
          },
          "execution_count": 15
        }
      ]
    },
    {
      "cell_type": "markdown",
      "metadata": {
        "colab_type": "text",
        "id": "BIJkXsK4ch-u"
      },
      "source": [
        "Using what you have learned (and google!) explore the data. Discuss what you find with people around you or the instructors"
      ]
    },
    {
      "cell_type": "code",
      "metadata": {
        "id": "sO8YUorJSo77",
        "colab_type": "code",
        "colab": {}
      },
      "source": [
        "import sklearn.neighbors\n",
        "import numpy as np\n",
        "import scipy.stats\n",
        "import matplotlib"
      ],
      "execution_count": 0,
      "outputs": []
    },
    {
      "cell_type": "code",
      "metadata": {
        "id": "HSMX_cQQS6lS",
        "colab_type": "code",
        "colab": {
          "base_uri": "https://localhost:8080/",
          "height": 85
        },
        "outputId": "23a1c4a5-072d-414b-bbb9-a88f0113e03e"
      },
      "source": [
        "Native_diabetes = sklearn.neighbors.KNeighborsClassifier(weights='distance')\n",
        "data.dropna()\n",
        "X = np.array([list(data[i]) for i in names[:8]]).reshape(768, 8)\n",
        "print(X.shape)\n",
        "Y = np.array(list(data['class']))\n",
        "Native_diabetes.fit(X, Y)\n"
      ],
      "execution_count": 17,
      "outputs": [
        {
          "output_type": "stream",
          "text": [
            "(768, 8)\n"
          ],
          "name": "stdout"
        },
        {
          "output_type": "execute_result",
          "data": {
            "text/plain": [
              "KNeighborsClassifier(algorithm='auto', leaf_size=30, metric='minkowski',\n",
              "                     metric_params=None, n_jobs=None, n_neighbors=5, p=2,\n",
              "                     weights='distance')"
            ]
          },
          "metadata": {
            "tags": []
          },
          "execution_count": 17
        }
      ]
    },
    {
      "cell_type": "code",
      "metadata": {
        "id": "RPhU0_Z7XXVc",
        "colab_type": "code",
        "colab": {}
      },
      "source": [
        ""
      ],
      "execution_count": 0,
      "outputs": []
    },
    {
      "cell_type": "code",
      "metadata": {
        "id": "ZPxN890rWIAX",
        "colab_type": "code",
        "colab": {
          "base_uri": "https://localhost:8080/",
          "height": 34
        },
        "outputId": "92b5ad41-68d0-4eb4-9665-d4bb54ac2122"
      },
      "source": [
        "Native_diabetes.predict(np.array([6, 181, 109, 32, 161, 33.9, 0.767, 29]).reshape(1, -1))"
      ],
      "execution_count": 19,
      "outputs": [
        {
          "output_type": "execute_result",
          "data": {
            "text/plain": [
              "array([1])"
            ]
          },
          "metadata": {
            "tags": []
          },
          "execution_count": 19
        }
      ]
    }
  ]
}